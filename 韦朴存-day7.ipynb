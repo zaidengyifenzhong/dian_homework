{
 "cells": [
  {
   "cell_type": "code",
   "execution_count": 6,
   "id": "50690701-560b-4821-9d94-fd2f639abfc0",
   "metadata": {},
   "outputs": [
    {
     "name": "stdout",
     "output_type": "stream",
     "text": [
      "Files already downloaded and verified\n",
      "Files already downloaded and verified\n"
     ]
    },
    {
     "name": "stderr",
     "output_type": "stream",
     "text": [
      "C:\\Users\\SF230210\\AppData\\Local\\Temp\\ipykernel_26808\\3032957443.py:97: UserWarning: Implicit dimension choice for log_softmax has been deprecated. Change the call to include dim=X as an argument.\n",
      "  _, predicted = torch.max(F.log_softmax(output.data), 1)\n"
     ]
    },
    {
     "name": "stdout",
     "output_type": "stream",
     "text": [
      "Epoch:0, Training loss:665.2954579591751, Training accuracy:0.38742\n",
      "Epoch:1, Training loss:524.9937934875488, Training accuracy:0.5222\n",
      "Epoch:2, Training loss:464.9594092965126, Training accuracy:0.58054\n",
      "Epoch:3, Training loss:419.4039323925972, Training accuracy:0.62242\n",
      "Epoch:4, Training loss:382.1145574450493, Training accuracy:0.65868\n",
      "Epoch:5, Training loss:348.7179926633835, Training accuracy:0.68938\n",
      "Epoch:6, Training loss:321.81937754154205, Training accuracy:0.71548\n",
      "Epoch:7, Training loss:296.2168590128422, Training accuracy:0.73842\n",
      "Epoch:8, Training loss:271.64105728268623, Training accuracy:0.75822\n",
      "Epoch:9, Training loss:250.2487301826477, Training accuracy:0.77598\n"
     ]
    },
    {
     "name": "stderr",
     "output_type": "stream",
     "text": [
      "C:\\Users\\SF230210\\AppData\\Local\\Temp\\ipykernel_26808\\3032957443.py:116: UserWarning: Implicit dimension choice for log_softmax has been deprecated. Change the call to include dim=X as an argument.\n",
      "  _, predicted = torch.max(F.log_softmax(output.data), 1)\n"
     ]
    },
    {
     "name": "stdout",
     "output_type": "stream",
     "text": [
      "Test loss:74.82130819559097, Test accuracy:0.6893\n"
     ]
    }
   ],
   "source": [
    "from collections import OrderedDict\n",
    "\n",
    "import torch\n",
    "import torch.nn as nn\n",
    "import torch.nn.functional as F\n",
    "import torchvision\n",
    "import torchvision.transforms as transforms\n",
    "from torch import optim\n",
    "\n",
    "\n",
    "class CNN6(nn.Module):\n",
    "    def __init__(self):\n",
    "        super(CNN6, self).__init__()\n",
    "        act = nn.LeakyReLU(negative_slope=0.2)\n",
    "        self.body = nn.ModuleList([\n",
    "            nn.Sequential(OrderedDict([\n",
    "                ('layer', nn.Conv2d(3, 12, kernel_size=4, padding=2, stride=2, bias=False)),\n",
    "                ('act', act)\n",
    "            ])),\n",
    "            nn.Sequential(OrderedDict([\n",
    "                ('layer', nn.Conv2d(12, 36, kernel_size=3, padding=1, stride=2, bias=False)),\n",
    "                ('act', act)\n",
    "            ])),\n",
    "            nn.Sequential(OrderedDict([\n",
    "                ('layer', nn.Conv2d(36, 36, kernel_size=3, padding=1, stride=1, bias=False)),\n",
    "                ('act', act)\n",
    "            ])),\n",
    "            nn.Sequential(OrderedDict([\n",
    "                ('layer', nn.Conv2d(36, 36, kernel_size=3, padding=1, stride=1, bias=False)),\n",
    "                ('act', act)\n",
    "            ])),\n",
    "            nn.Sequential(OrderedDict([\n",
    "                ('layer', nn.Conv2d(36, 64, kernel_size=3, padding=1, stride=2, bias=False)),\n",
    "                ('act', act)\n",
    "            ])),\n",
    "            nn.Sequential(OrderedDict([\n",
    "                ('layer', nn.Conv2d(64, 128, kernel_size=3, padding=1, stride=1, bias=False)),\n",
    "                ('act', act)\n",
    "            ])),\n",
    "            nn.Sequential(OrderedDict([\n",
    "                ('layer', nn.Linear(3200, 10, bias=False)),\n",
    "                ('act', nn.Identity())\n",
    "            ]))\n",
    "        ])\n",
    "\n",
    "    def forward(self, x):\n",
    "        for layer in self.body:\n",
    "            if isinstance(layer.layer, nn.Linear):\n",
    "                x = x.flatten(1)\n",
    "            x = layer(x)\n",
    "        return x\n",
    "\n",
    "\n",
    "if __name__ == '__main__':\n",
    "    #  **由于torchvision的datasets的输出是[0,1]的PILImage，所以我们先先归一化为[-1,1]的Tensor**\n",
    "    #  首先定义了一个变换transform，利用的是上面提到的transforms模块中的Compose( )\n",
    "    #  把多个变换组合在一起，可以看到这里面组合了ToTensor和Normalize这两个变换\n",
    "    torch.manual_seed(seed=10000)\n",
    "    device = torch.device(\"cuda\" if torch.cuda.is_available() else \"cpu\")\n",
    "    transform = transforms.Compose(\n",
    "        [transforms.ToTensor(),\n",
    "         transforms.Normalize((0.5, 0.5, 0.5), (0.5, 0.5, 0.5))])\n",
    "\n",
    "    # 定义了我们的训练集，名字就叫trainset，至于后面这一堆，其实就是一个类：\n",
    "    # torchvision.datasets.CIFAR10( )也是封装好了的，就在我前面提到的torchvision.datasets\n",
    "    # 模块中,不必深究，如果想深究就看我这段代码后面贴的图1，其实就是在下载数据\n",
    "    # （不翻墙可能会慢一点吧）然后进行变换，可以看到transform就是我们上面定义的transform\n",
    "    trainset = torchvision.datasets.CIFAR10(root='cifar-10-batches-py/', train=True,\n",
    "                                            download=True, transform=transform)\n",
    "    # trainloader其实是一个比较重要的东西，我们后面就是通过trainloader把数据传入网\n",
    "    # 络，当然这里的trainloader其实是个变量名，可以随便取，重点是他是由后面的\n",
    "    # torch.utils.data.DataLoader()定义的，这个东西来源于torch.utils.data模块，\n",
    "    #  网页链接http://pytorch.org/docs/0.3.0/data.html，这个类可见我后面图2\n",
    "    trainloader = torch.utils.data.DataLoader(trainset, batch_size=128,\n",
    "                                              shuffle=True, num_workers=2)\n",
    "    # 对于测试集的操作和训练集一样，我就不赘述了\n",
    "    testset = torchvision.datasets.CIFAR10(root='cifar-10-batches-py/', train=False,\n",
    "                                           download=True, transform=transform)\n",
    "    testloader = torch.utils.data.DataLoader(testset, batch_size=128,\n",
    "                                             shuffle=False, num_workers=2)\n",
    "    # 类别信息也是需要我们给定的\n",
    "    classes = ('plane', 'car', 'bird', 'cat',\n",
    "               'deer', 'dog', 'frog', 'horse', 'ship', 'truck')\n",
    "\n",
    "    model = CNN6()\n",
    "    criterion = nn.CrossEntropyLoss()\n",
    "    optimizer = optim.Adam(model.parameters(), lr=0.001)\n",
    "    epochs = 10\n",
    "    for epoch in range(epochs):\n",
    "        running_loss = 0\n",
    "        num_correct_prediction = 0\n",
    "        for images, labels in trainloader:\n",
    "            images = images.to(device)\n",
    "            labels = labels.to(device)\n",
    "            model = model.to(device)\n",
    "            output = model(images)\n",
    "            _, predicted = torch.max(F.log_softmax(output.data), 1)\n",
    "            loss = criterion(output, labels)\n",
    "            optimizer.zero_grad()\n",
    "            loss.backward()\n",
    "            optimizer.step()\n",
    "            num_correct_prediction += (predicted == labels).sum().item()\n",
    "            running_loss += loss.item()\n",
    "        else:\n",
    "            print(f\"Epoch:{epoch}, Training loss:{running_loss}, Training accuracy:{num_correct_prediction / 50000}\")\n",
    "\n",
    "    model.eval()\n",
    "    test_loss = 0\n",
    "    num_correct_prediction = 0\n",
    "    with torch.no_grad():\n",
    "        for images, labels in testloader:\n",
    "            images = images.to(device)\n",
    "            labels = labels.to(device)\n",
    "            model = model.to(device)\n",
    "            output = model(images)\n",
    "            _, predicted = torch.max(F.log_softmax(output.data), 1)\n",
    "            loss = criterion(output, labels)\n",
    "            test_loss += loss.item()\n",
    "            num_correct_prediction += (predicted == labels).sum().item()\n",
    "    print(f\"Test loss:{test_loss}, Test accuracy:{num_correct_prediction / 10000}\")\n"
   ]
  },
  {
   "cell_type": "code",
   "execution_count": null,
   "id": "6864ff5b-fb74-418f-a764-cbfd779fe078",
   "metadata": {},
   "outputs": [],
   "source": [
    "###动态调整学习率scheduler = StepLR(optimizer, step_size=30, gamma=0.1)\n",
    "###scheduler = MultiStepLR(optimizer, milestones=[30,80], gamma=0.1)\n",
    "###有必要，使模型不那么敏感"
   ]
  }
 ],
 "metadata": {
  "kernelspec": {
   "display_name": "Python 3 (ipykernel)",
   "language": "python",
   "name": "python3"
  },
  "language_info": {
   "codemirror_mode": {
    "name": "ipython",
    "version": 3
   },
   "file_extension": ".py",
   "mimetype": "text/x-python",
   "name": "python",
   "nbconvert_exporter": "python",
   "pygments_lexer": "ipython3",
   "version": "3.11.2"
  }
 },
 "nbformat": 4,
 "nbformat_minor": 5
}
